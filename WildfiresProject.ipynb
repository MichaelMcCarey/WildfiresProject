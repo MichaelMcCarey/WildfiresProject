{
  "nbformat": 4,
  "nbformat_minor": 0,
  "metadata": {
    "colab": {
      "provenance": [],
      "authorship_tag": "ABX9TyN69KYUglL8hHz0G9I6mrWt",
      "include_colab_link": true
    },
    "kernelspec": {
      "name": "python3",
      "display_name": "Python 3"
    },
    "language_info": {
      "name": "python"
    }
  },
  "cells": [
    {
      "cell_type": "markdown",
      "metadata": {
        "id": "view-in-github",
        "colab_type": "text"
      },
      "source": [
        "<a href=\"https://colab.research.google.com/github/MichaelMcCarey/WildfiresProject/blob/main/WildfiresProject.ipynb\" target=\"_parent\"><img src=\"https://colab.research.google.com/assets/colab-badge.svg\" alt=\"Open In Colab\"/></a>"
      ]
    },
    {
      "cell_type": "code",
      "execution_count": 31,
      "metadata": {
        "id": "gJl_WFUb5vqd"
      },
      "outputs": [],
      "source": [
        "import pandas as pd\n",
        "import numpy as np\n",
        "\n",
        "# importing the wildfires datasets i put in github\n",
        "training = 'https://raw.githubusercontent.com/MichaelMcCarey/WildfiresProject/main/wildfires_training.csv'\n",
        "training_data = pd.read_csv(training)\n",
        "test = 'https://raw.githubusercontent.com/MichaelMcCarey/WildfiresProject/main/wildfires_test.csv'\n",
        "test_data = pd.read_csv(test)"
      ]
    },
    {
      "cell_type": "code",
      "source": [
        "# importing algorithims from sci-kit learn\n",
        "from sklearn.linear_model import LogisticRegression\n",
        "from sklearn.svm import SVC\n",
        "from sklearn import metrics"
      ],
      "metadata": {
        "id": "sTAp6cflu6Va"
      },
      "execution_count": 2,
      "outputs": []
    },
    {
      "cell_type": "code",
      "source": [
        "# test to make sure data was imported successfully\n",
        "print(training_data.head())\n",
        "print(test_data.head())\n",
        "print(training_data.shape)\n",
        "print(test_data.shape)"
      ],
      "metadata": {
        "colab": {
          "base_uri": "https://localhost:8080/"
        },
        "id": "GvyP0RJFTNKG",
        "outputId": "dabb492c-1b29-4bae-f01b-1e26cd34bef1"
      },
      "execution_count": 3,
      "outputs": [
        {
          "output_type": "stream",
          "name": "stdout",
          "text": [
            "  fire  year  temp  humidity  rainfall  drought_code  buildup_index  day  \\\n",
            "0   no  2015    28        59       0.0          8.06           3.47    1   \n",
            "1   no  2010    30        61       1.3          8.17           4.03    2   \n",
            "2   no  2009    26        83      13.1          8.08           3.59    3   \n",
            "3   no  2017    25        87       2.5          7.18           2.42    4   \n",
            "4   no  2014    28        77       0.0         14.98           4.63    5   \n",
            "\n",
            "   month  wind_speed  \n",
            "0      6          19  \n",
            "1      6          13  \n",
            "2      6          22  \n",
            "3      6          15  \n",
            "4      6          18  \n",
            "  fire  year  temp  humidity  rainfall  drought_code  buildup_index  day  \\\n",
            "0   no  2015    33        68       4.5          9.12           5.09   19   \n",
            "1  yes  2009    28        56       0.0         38.17          21.21   12   \n",
            "2   no  2017    30        64       0.6         15.38           6.24   24   \n",
            "3   no  2007    23        74       8.3          7.36           2.27   14   \n",
            "4   no  2017    31        72       0.3         30.47           5.63    7   \n",
            "\n",
            "   month  wind_speed  \n",
            "0      6          16  \n",
            "1      6          18  \n",
            "2      9          19  \n",
            "3      9          28  \n",
            "4      9          17  \n",
            "(154, 10)\n",
            "(50, 10)\n"
          ]
        }
      ]
    },
    {
      "cell_type": "code",
      "source": [
        "# seperate the independent and dependent variables\n",
        "independent_cols = ['year', 'temp', 'humidity', 'rainfall', 'drought_code', 'buildup_index', 'day', 'month', 'wind_speed']\n",
        "dependent_cols = ['fire']"
      ],
      "metadata": {
        "id": "B82gl-f5ksxx"
      },
      "execution_count": 4,
      "outputs": []
    },
    {
      "cell_type": "code",
      "source": [
        "# set up matrix x and vector y for the training data\n",
        "X_training = training_data[independent_cols]\n",
        "y_training = training_data[dependent_cols]"
      ],
      "metadata": {
        "id": "ipYaPTM3q1u0"
      },
      "execution_count": 16,
      "outputs": []
    },
    {
      "cell_type": "code",
      "source": [
        "# set up matrix x and vector y for the test data\n",
        "X_test = test_data[independent_cols]\n",
        "y_test = test_data[dependent_cols]"
      ],
      "metadata": {
        "id": "kYSp-VBdur6l"
      },
      "execution_count": 17,
      "outputs": []
    },
    {
      "cell_type": "code",
      "source": [
        "# test to make sure matrix is set up successfully\n",
        "print(X_training.shape)\n",
        "print(X_test.shape)\n",
        "print(y_training.shape)\n",
        "print(y_test.shape)"
      ],
      "metadata": {
        "colab": {
          "base_uri": "https://localhost:8080/"
        },
        "id": "0Z6gaYRdq6_C",
        "outputId": "f4c4d8c2-d86f-45e3-b25f-1022dadeb752"
      },
      "execution_count": 18,
      "outputs": [
        {
          "output_type": "stream",
          "name": "stdout",
          "text": [
            "(154, 9)\n",
            "(50, 9)\n",
            "(154, 1)\n",
            "(50, 1)\n"
          ]
        }
      ]
    },
    {
      "cell_type": "code",
      "source": [
        "# creating logistic regression model with default settings\n",
        "model = LogisticRegression()\n",
        "model.fit(X_training, y_training)\n",
        "\n",
        "# predictions\n",
        "predictions_training = model.predict(X_training)\n",
        "predictions_test = model.predict(X_test)\n",
        "\n",
        "# accuracy on the predictions\n",
        "accuracy_training = metrics.accuracy_score(y_training, predictions_training)\n",
        "accuracy_test = metrics.accuracy_score(y_test, predictions_test)\n",
        "\n",
        "print('Accuracy on training data: ', accuracy_training)\n",
        "print('Accuracy on test data: ', accuracy_test)"
      ],
      "metadata": {
        "colab": {
          "base_uri": "https://localhost:8080/"
        },
        "id": "Yik_4UPC2Y7w",
        "outputId": "a2a00f8e-69ef-4363-a849-373592ca02c9"
      },
      "execution_count": 19,
      "outputs": [
        {
          "output_type": "stream",
          "name": "stdout",
          "text": [
            "Accuracy on training data:  0.8961038961038961\n",
            "Accuracy on test data:  0.88\n"
          ]
        },
        {
          "output_type": "stream",
          "name": "stderr",
          "text": [
            "/usr/local/lib/python3.12/dist-packages/sklearn/utils/validation.py:1408: DataConversionWarning: A column-vector y was passed when a 1d array was expected. Please change the shape of y to (n_samples, ), for example using ravel().\n",
            "  y = column_or_1d(y, warn=True)\n",
            "/usr/local/lib/python3.12/dist-packages/sklearn/linear_model/_logistic.py:465: ConvergenceWarning: lbfgs failed to converge (status=1):\n",
            "STOP: TOTAL NO. OF ITERATIONS REACHED LIMIT.\n",
            "\n",
            "Increase the number of iterations (max_iter) or scale the data as shown in:\n",
            "    https://scikit-learn.org/stable/modules/preprocessing.html\n",
            "Please also refer to the documentation for alternative solver options:\n",
            "    https://scikit-learn.org/stable/modules/linear_model.html#logistic-regression\n",
            "  n_iter_i = _check_optimize_result(\n"
          ]
        }
      ]
    },
    {
      "cell_type": "code",
      "source": [
        "# since i am getting a message about changing the shape of y, and also being told to increase the max_iter, i will be changing it as suggested and using the new version as the actual default accuracy\n",
        "y_training = y_training.ravel()\n",
        "y_test = y_test.ravel()\n",
        "\n",
        "#new model fixed\n",
        "model = LogisticRegression(max_iter=10000) # this is high but it finally got rid of the message for all future code\n",
        "model.fit(X_training, y_training)\n",
        "\n",
        "# predictions\n",
        "predictions_training = model.predict(X_training)\n",
        "predictions_test = model.predict(X_test)\n",
        "\n",
        "# accuracy on the predictions\n",
        "accuracy_training = metrics.accuracy_score(y_training, predictions_training)\n",
        "accuracy_test = metrics.accuracy_score(y_test, predictions_test)\n",
        "\n",
        "print(f'Accuracy on training data:  {accuracy_training:.3f}') # using this to limit accuracy results to 3 decimals for neatness\n",
        "print('Accuracy on test data: ', accuracy_test)"
      ],
      "metadata": {
        "colab": {
          "base_uri": "https://localhost:8080/"
        },
        "id": "HBbDOMfiJoa-",
        "outputId": "7f29e386-d14c-4436-fa3c-d01a2ef3e803"
      },
      "execution_count": 71,
      "outputs": [
        {
          "output_type": "stream",
          "name": "stdout",
          "text": [
            "Accuracy on training data:  0.909\n",
            "Accuracy on test data:  0.9\n"
          ]
        }
      ]
    },
    {
      "cell_type": "code",
      "source": [
        "C_values = [0.01, 0.1, 0.5, 1, 5, 10, 100] # chose wide range for C to explore how it effects accuracy, noticed best results came from around 1 so i added 0.5 and 5 later to see if they gave even better results\n",
        "solvers = ['lbfgs', 'liblinear', 'newton-cg', 'newton-cholesky', 'sag', 'saga'] # the options for solvers from sci kit\n",
        "\n",
        "# this loop will print out a list of how each combination of the hyperparameters performed\n",
        "for c in C_values:\n",
        "  for solver in solvers:\n",
        "        model = LogisticRegression(C=c, solver=solver, max_iter=10000) # max_iter not a hyperparameter since i am keeping it consistent with my default logistic regression\n",
        "        model.fit(X_training, y_training)\n",
        "        accuracy_training = metrics.accuracy_score(y_training, model.predict(X_training))\n",
        "        accuracy_test = metrics.accuracy_score(y_test, model.predict(X_test))\n",
        "        print(f\"C={c}, solver='{solver}', Accuracy on training data: {accuracy_training:.3f}, Accuracy on test data: {accuracy_test:.3f}\")"
      ],
      "metadata": {
        "colab": {
          "base_uri": "https://localhost:8080/"
        },
        "id": "y0FoFlNyzAxc",
        "outputId": "de2fd0e0-9b66-4d7e-8814-e2549a5070a2"
      },
      "execution_count": 73,
      "outputs": [
        {
          "output_type": "stream",
          "name": "stdout",
          "text": [
            "C=0.01, solver='lbfgs', Accuracy on training data: 0.883, Accuracy on test data: 0.840\n",
            "C=0.01, solver='liblinear', Accuracy on training data: 0.883, Accuracy on test data: 0.840\n",
            "C=0.01, solver='newton-cg', Accuracy on training data: 0.883, Accuracy on test data: 0.840\n",
            "C=0.01, solver='newton-cholesky', Accuracy on training data: 0.870, Accuracy on test data: 0.820\n",
            "C=0.01, solver='sag', Accuracy on training data: 0.870, Accuracy on test data: 0.820\n",
            "C=0.01, solver='saga', Accuracy on training data: 0.870, Accuracy on test data: 0.820\n",
            "C=0.1, solver='lbfgs', Accuracy on training data: 0.896, Accuracy on test data: 0.820\n",
            "C=0.1, solver='liblinear', Accuracy on training data: 0.896, Accuracy on test data: 0.820\n",
            "C=0.1, solver='newton-cg', Accuracy on training data: 0.890, Accuracy on test data: 0.820\n",
            "C=0.1, solver='newton-cholesky', Accuracy on training data: 0.883, Accuracy on test data: 0.820\n",
            "C=0.1, solver='sag', Accuracy on training data: 0.883, Accuracy on test data: 0.820\n",
            "C=0.1, solver='saga', Accuracy on training data: 0.870, Accuracy on test data: 0.800\n",
            "C=0.5, solver='lbfgs', Accuracy on training data: 0.896, Accuracy on test data: 0.860\n",
            "C=0.5, solver='liblinear', Accuracy on training data: 0.896, Accuracy on test data: 0.860\n",
            "C=0.5, solver='newton-cg', Accuracy on training data: 0.896, Accuracy on test data: 0.880\n",
            "C=0.5, solver='newton-cholesky', Accuracy on training data: 0.896, Accuracy on test data: 0.880\n",
            "C=0.5, solver='sag', Accuracy on training data: 0.870, Accuracy on test data: 0.820\n",
            "C=0.5, solver='saga', Accuracy on training data: 0.870, Accuracy on test data: 0.800\n",
            "C=1, solver='lbfgs', Accuracy on training data: 0.909, Accuracy on test data: 0.900\n",
            "C=1, solver='liblinear', Accuracy on training data: 0.909, Accuracy on test data: 0.900\n",
            "C=1, solver='newton-cg', Accuracy on training data: 0.903, Accuracy on test data: 0.900\n",
            "C=1, solver='newton-cholesky', Accuracy on training data: 0.890, Accuracy on test data: 0.900\n",
            "C=1, solver='sag', Accuracy on training data: 0.870, Accuracy on test data: 0.820\n",
            "C=1, solver='saga', Accuracy on training data: 0.870, Accuracy on test data: 0.800\n",
            "C=5, solver='lbfgs', Accuracy on training data: 0.922, Accuracy on test data: 0.900\n",
            "C=5, solver='liblinear', Accuracy on training data: 0.922, Accuracy on test data: 0.900\n",
            "C=5, solver='newton-cg', Accuracy on training data: 0.922, Accuracy on test data: 0.900\n",
            "C=5, solver='newton-cholesky', Accuracy on training data: 0.916, Accuracy on test data: 0.900\n",
            "C=5, solver='sag', Accuracy on training data: 0.870, Accuracy on test data: 0.820\n",
            "C=5, solver='saga', Accuracy on training data: 0.870, Accuracy on test data: 0.800\n",
            "C=10, solver='lbfgs', Accuracy on training data: 0.922, Accuracy on test data: 0.880\n",
            "C=10, solver='liblinear', Accuracy on training data: 0.922, Accuracy on test data: 0.880\n",
            "C=10, solver='newton-cg', Accuracy on training data: 0.922, Accuracy on test data: 0.880\n",
            "C=10, solver='newton-cholesky', Accuracy on training data: 0.922, Accuracy on test data: 0.880\n",
            "C=10, solver='sag', Accuracy on training data: 0.870, Accuracy on test data: 0.820\n",
            "C=10, solver='saga', Accuracy on training data: 0.870, Accuracy on test data: 0.800\n",
            "C=100, solver='lbfgs', Accuracy on training data: 0.929, Accuracy on test data: 0.860\n",
            "C=100, solver='liblinear', Accuracy on training data: 0.929, Accuracy on test data: 0.860\n",
            "C=100, solver='newton-cg', Accuracy on training data: 0.922, Accuracy on test data: 0.880\n",
            "C=100, solver='newton-cholesky', Accuracy on training data: 0.916, Accuracy on test data: 0.880\n",
            "C=100, solver='sag', Accuracy on training data: 0.870, Accuracy on test data: 0.820\n",
            "C=100, solver='saga', Accuracy on training data: 0.870, Accuracy on test data: 0.800\n"
          ]
        }
      ]
    },
    {
      "cell_type": "code",
      "source": [],
      "metadata": {
        "id": "x6C8PPCHeYPh"
      },
      "execution_count": null,
      "outputs": []
    }
  ]
}