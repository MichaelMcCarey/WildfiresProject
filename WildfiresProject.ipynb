{
  "nbformat": 4,
  "nbformat_minor": 0,
  "metadata": {
    "colab": {
      "provenance": [],
      "authorship_tag": "ABX9TyOPVvoVPOP2t6KsOdGUIAtg",
      "include_colab_link": true
    },
    "kernelspec": {
      "name": "python3",
      "display_name": "Python 3"
    },
    "language_info": {
      "name": "python"
    }
  },
  "cells": [
    {
      "cell_type": "markdown",
      "metadata": {
        "id": "view-in-github",
        "colab_type": "text"
      },
      "source": [
        "<a href=\"https://colab.research.google.com/github/MichaelMcCarey/WildfiresProject/blob/main/WildfiresProject.ipynb\" target=\"_parent\"><img src=\"https://colab.research.google.com/assets/colab-badge.svg\" alt=\"Open In Colab\"/></a>"
      ]
    },
    {
      "cell_type": "code",
      "execution_count": 1,
      "metadata": {
        "id": "gJl_WFUb5vqd"
      },
      "outputs": [],
      "source": [
        "import pandas as pd\n",
        "\n",
        "# importing the wildfires datasets i put in github\n",
        "training = 'https://raw.githubusercontent.com/MichaelMcCarey/WildfiresProject/main/wildfires_training.csv'\n",
        "training_data = pd.read_csv(training)\n",
        "test = 'https://raw.githubusercontent.com/MichaelMcCarey/WildfiresProject/main/wildfires_test.csv'\n",
        "test_data = pd.read_csv(test)"
      ]
    },
    {
      "cell_type": "code",
      "source": [
        "# importing algorithims from sci-kit learn\n",
        "from sklearn.linear_model import LogisticRegression\n",
        "from sklearn.svm import SVC\n",
        "from sklearn import metrics"
      ],
      "metadata": {
        "id": "sTAp6cflu6Va"
      },
      "execution_count": 46,
      "outputs": []
    },
    {
      "cell_type": "code",
      "source": [
        "# test to make sure data was imported successfully\n",
        "print(training_data.head())\n",
        "print(test_data.head())\n",
        "print(training_data.shape)\n",
        "print(test_data.shape)"
      ],
      "metadata": {
        "colab": {
          "base_uri": "https://localhost:8080/"
        },
        "id": "GvyP0RJFTNKG",
        "outputId": "8eccf03d-36f0-44b7-b441-5ff173323c88"
      },
      "execution_count": 39,
      "outputs": [
        {
          "output_type": "stream",
          "name": "stdout",
          "text": [
            "  fire  year  temp  humidity  rainfall  drought_code  buildup_index  day  \\\n",
            "0   no  2015    28        59       0.0          8.06           3.47    1   \n",
            "1   no  2010    30        61       1.3          8.17           4.03    2   \n",
            "2   no  2009    26        83      13.1          8.08           3.59    3   \n",
            "3   no  2017    25        87       2.5          7.18           2.42    4   \n",
            "4   no  2014    28        77       0.0         14.98           4.63    5   \n",
            "\n",
            "   month  wind_speed  \n",
            "0      6          19  \n",
            "1      6          13  \n",
            "2      6          22  \n",
            "3      6          15  \n",
            "4      6          18  \n",
            "  fire  year  temp  humidity  rainfall  drought_code  buildup_index  day  \\\n",
            "0   no  2015    33        68       4.5          9.12           5.09   19   \n",
            "1  yes  2009    28        56       0.0         38.17          21.21   12   \n",
            "2   no  2017    30        64       0.6         15.38           6.24   24   \n",
            "3   no  2007    23        74       8.3          7.36           2.27   14   \n",
            "4   no  2017    31        72       0.3         30.47           5.63    7   \n",
            "\n",
            "   month  wind_speed  \n",
            "0      6          16  \n",
            "1      6          18  \n",
            "2      9          19  \n",
            "3      9          28  \n",
            "4      9          17  \n",
            "(154, 10)\n",
            "(50, 10)\n"
          ]
        }
      ]
    },
    {
      "cell_type": "code",
      "source": [
        "# seperate the independent and dependent variables\n",
        "independent_cols = ['year', 'temp', 'humidity', 'rainfall', 'drought_code', 'buildup_index', 'day', 'month', 'wind_speed']\n",
        "dependent_cols = ['fire']"
      ],
      "metadata": {
        "id": "B82gl-f5ksxx"
      },
      "execution_count": 31,
      "outputs": []
    },
    {
      "cell_type": "code",
      "source": [
        "# set up matrix x and vector y for the training data\n",
        "X_training = training_data[independent_cols]\n",
        "y_training = training_data[dependent_cols]"
      ],
      "metadata": {
        "id": "ipYaPTM3q1u0"
      },
      "execution_count": 43,
      "outputs": []
    },
    {
      "cell_type": "code",
      "source": [
        "# set up matrix x and vector y for the test data\n",
        "X_test = test_data[independent_cols]\n",
        "y_test = test_data[dependent_cols]"
      ],
      "metadata": {
        "id": "kYSp-VBdur6l"
      },
      "execution_count": 44,
      "outputs": []
    },
    {
      "cell_type": "code",
      "source": [
        "# test to make sure matrix is set up successfully\n",
        "print(X_training.shape)\n",
        "print(X_test.shape)\n",
        "print(y_training.shape)\n",
        "print(y_test.shape)"
      ],
      "metadata": {
        "colab": {
          "base_uri": "https://localhost:8080/"
        },
        "id": "0Z6gaYRdq6_C",
        "outputId": "59c86406-2b4e-4da6-a716-5ddb4d4cbeee"
      },
      "execution_count": 45,
      "outputs": [
        {
          "output_type": "stream",
          "name": "stdout",
          "text": [
            "(154, 9)\n",
            "(50, 9)\n",
            "(154, 1)\n",
            "(50, 1)\n"
          ]
        }
      ]
    },
    {
      "cell_type": "code",
      "source": [
        "# creating logistic regression model with default settings\n",
        "model = LogisticRegression()\n",
        "model.fit(X_training, y_training)\n",
        "\n",
        "# predictions\n",
        "predictions_training = model.predict(X_training)\n",
        "predictions_test = model.predict(X_test)\n",
        "\n",
        "# accuracy on the predictions\n",
        "accuracy_training = metrics.accuracy_score(y_training, predictions_training)\n",
        "accuracy_test = metrics.accuracy_score(y_test, predictions_test)\n",
        "\n",
        "print(accuracy_training)\n",
        "print(accuracy_test)"
      ],
      "metadata": {
        "colab": {
          "base_uri": "https://localhost:8080/"
        },
        "id": "Yik_4UPC2Y7w",
        "outputId": "91eec1e6-0d27-4099-e7d7-160c4bacd20e"
      },
      "execution_count": 52,
      "outputs": [
        {
          "output_type": "stream",
          "name": "stdout",
          "text": [
            "0.8961038961038961\n",
            "0.88\n"
          ]
        },
        {
          "output_type": "stream",
          "name": "stderr",
          "text": [
            "/usr/local/lib/python3.12/dist-packages/sklearn/utils/validation.py:1408: DataConversionWarning: A column-vector y was passed when a 1d array was expected. Please change the shape of y to (n_samples, ), for example using ravel().\n",
            "  y = column_or_1d(y, warn=True)\n",
            "/usr/local/lib/python3.12/dist-packages/sklearn/linear_model/_logistic.py:465: ConvergenceWarning: lbfgs failed to converge (status=1):\n",
            "STOP: TOTAL NO. OF ITERATIONS REACHED LIMIT.\n",
            "\n",
            "Increase the number of iterations (max_iter) or scale the data as shown in:\n",
            "    https://scikit-learn.org/stable/modules/preprocessing.html\n",
            "Please also refer to the documentation for alternative solver options:\n",
            "    https://scikit-learn.org/stable/modules/linear_model.html#logistic-regression\n",
            "  n_iter_i = _check_optimize_result(\n"
          ]
        }
      ]
    }
  ]
}